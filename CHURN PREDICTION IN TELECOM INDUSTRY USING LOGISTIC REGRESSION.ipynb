{
 "cells": [
  {
   "cell_type": "markdown",
   "id": "00fa6a65",
   "metadata": {},
   "source": [
    "# IMPORTING REQUIRED LIBRARIES"
   ]
  },
  {
   "cell_type": "code",
   "execution_count": 101,
   "id": "a40099ce",
   "metadata": {},
   "outputs": [],
   "source": [
    "import numpy as np\n",
    "import pandas as pd\n",
    "from sklearn.linear_model import LogisticRegression\n",
    "from sklearn.model_selection import train_test_split\n",
    "from sklearn.metrics import accuracy_score\n",
    "from sklearn.metrics import classification_report\n",
    "from sklearn.preprocessing import LabelEncoder\n",
    "import warnings\n",
    "warnings.simplefilter(\"ignore\")"
   ]
  },
  {
   "cell_type": "markdown",
   "id": "f2fe079a",
   "metadata": {},
   "source": [
    "# LOADING THE TELECOM DATASET FOR CHURN PREDICTION"
   ]
  },
  {
   "cell_type": "code",
   "execution_count": 102,
   "id": "82ce62d3",
   "metadata": {
    "scrolled": true
   },
   "outputs": [
    {
     "name": "stdout",
     "output_type": "stream",
     "text": [
      "   customerID  gender  SeniorCitizen Partner Dependents  tenure PhoneService  \\\n",
      "0  7590-VHVEG  Female              0     Yes         No       1           No   \n",
      "1  5575-GNVDE    Male              0      No         No      34          Yes   \n",
      "2  3668-QPYBK    Male              0      No         No       2          Yes   \n",
      "3  7795-CFOCW    Male              0      No         No      45           No   \n",
      "4  9237-HQITU  Female              0      No         No       2          Yes   \n",
      "\n",
      "      MultipleLines InternetService OnlineSecurity  ... DeviceProtection  \\\n",
      "0  No phone service             DSL             No  ...               No   \n",
      "1                No             DSL            Yes  ...              Yes   \n",
      "2                No             DSL            Yes  ...               No   \n",
      "3  No phone service             DSL            Yes  ...              Yes   \n",
      "4                No     Fiber optic             No  ...               No   \n",
      "\n",
      "  TechSupport StreamingTV StreamingMovies        Contract PaperlessBilling  \\\n",
      "0          No          No              No  Month-to-month              Yes   \n",
      "1          No          No              No        One year               No   \n",
      "2          No          No              No  Month-to-month              Yes   \n",
      "3         Yes          No              No        One year               No   \n",
      "4          No          No              No  Month-to-month              Yes   \n",
      "\n",
      "               PaymentMethod MonthlyCharges  TotalCharges Churn  \n",
      "0           Electronic check          29.85         29.85    No  \n",
      "1               Mailed check          56.95        1889.5    No  \n",
      "2               Mailed check          53.85        108.15   Yes  \n",
      "3  Bank transfer (automatic)          42.30       1840.75    No  \n",
      "4           Electronic check          70.70        151.65   Yes  \n",
      "\n",
      "[5 rows x 21 columns]\n",
      "       SeniorCitizen       tenure  MonthlyCharges\n",
      "count    7043.000000  7043.000000     7043.000000\n",
      "mean        0.162147    32.371149       64.761692\n",
      "std         0.368612    24.559481       30.090047\n",
      "min         0.000000     0.000000       18.250000\n",
      "25%         0.000000     9.000000       35.500000\n",
      "50%         0.000000    29.000000       70.350000\n",
      "75%         0.000000    55.000000       89.850000\n",
      "max         1.000000    72.000000      118.750000\n"
     ]
    }
   ],
   "source": [
    "dt = pd.read_csv(r\"C:\\Users\\HP\\Downloads\\archive (8)\\WA_Fn-UseC_-Telco-Customer-Churn.csv\")\n",
    "print(dt.head())\n",
    "print(dt.describe())"
   ]
  },
  {
   "cell_type": "markdown",
   "id": "08a2e45c",
   "metadata": {},
   "source": [
    "# DATA PREPROCESSING"
   ]
  },
  {
   "cell_type": "code",
   "execution_count": 103,
   "id": "5aa74c94",
   "metadata": {},
   "outputs": [
    {
     "name": "stdout",
     "output_type": "stream",
     "text": [
      "(7043, 21)\n",
      "(7043, 17)\n",
      "(7043, 17)\n",
      "(4835, 17)\n",
      "      SeniorCitizen  tenure PhoneService MultipleLines InternetService  \\\n",
      "1                 0      34          Yes            No             DSL   \n",
      "2                 0       2          Yes            No             DSL   \n",
      "4                 0       2          Yes            No     Fiber optic   \n",
      "5                 0       8          Yes           Yes     Fiber optic   \n",
      "6                 0      22          Yes           Yes     Fiber optic   \n",
      "...             ...     ...          ...           ...             ...   \n",
      "7035              0      19          Yes            No     Fiber optic   \n",
      "7038              0      24          Yes           Yes             DSL   \n",
      "7039              0      72          Yes           Yes     Fiber optic   \n",
      "7041              1       4          Yes           Yes     Fiber optic   \n",
      "7042              0      66          Yes            No     Fiber optic   \n",
      "\n",
      "     OnlineSecurity OnlineBackup DeviceProtection TechSupport StreamingTV  \\\n",
      "1               Yes           No              Yes          No          No   \n",
      "2               Yes          Yes               No          No          No   \n",
      "4                No           No               No          No          No   \n",
      "5                No           No              Yes          No         Yes   \n",
      "6                No          Yes               No          No         Yes   \n",
      "...             ...          ...              ...         ...         ...   \n",
      "7035             No           No               No          No         Yes   \n",
      "7038            Yes           No              Yes         Yes         Yes   \n",
      "7039             No          Yes              Yes          No         Yes   \n",
      "7041             No           No               No          No          No   \n",
      "7042            Yes           No              Yes         Yes         Yes   \n",
      "\n",
      "     StreamingMovies        Contract PaperlessBilling  \\\n",
      "1                 No        One year               No   \n",
      "2                 No  Month-to-month              Yes   \n",
      "4                 No  Month-to-month              Yes   \n",
      "5                Yes  Month-to-month              Yes   \n",
      "6                 No  Month-to-month              Yes   \n",
      "...              ...             ...              ...   \n",
      "7035              No  Month-to-month              Yes   \n",
      "7038             Yes        One year              Yes   \n",
      "7039             Yes        One year              Yes   \n",
      "7041              No  Month-to-month              Yes   \n",
      "7042             Yes        Two year              Yes   \n",
      "\n",
      "                  PaymentMethod  MonthlyCharges TotalCharges Churn  \n",
      "1                  Mailed check           56.95       1889.5    No  \n",
      "2                  Mailed check           53.85       108.15   Yes  \n",
      "4              Electronic check           70.70       151.65   Yes  \n",
      "5              Electronic check           99.65        820.5   Yes  \n",
      "6       Credit card (automatic)           89.10       1949.4    No  \n",
      "...                         ...             ...          ...   ...  \n",
      "7035  Bank transfer (automatic)           78.70       1495.1    No  \n",
      "7038               Mailed check           84.80       1990.5    No  \n",
      "7039    Credit card (automatic)          103.20       7362.9    No  \n",
      "7041               Mailed check           74.40        306.6   Yes  \n",
      "7042  Bank transfer (automatic)          105.65       6844.5    No  \n",
      "\n",
      "[4835 rows x 17 columns]\n",
      "   SeniorCitizen  tenure PhoneService MultipleLines InternetService  \\\n",
      "1              0      34          Yes            No             DSL   \n",
      "2              0       2          Yes            No             DSL   \n",
      "4              0       2          Yes            No     Fiber optic   \n",
      "5              0       8          Yes           Yes     Fiber optic   \n",
      "6              0      22          Yes           Yes     Fiber optic   \n",
      "\n",
      "  OnlineSecurity OnlineBackup DeviceProtection TechSupport StreamingTV  \\\n",
      "1            Yes           No              Yes          No          No   \n",
      "2            Yes          Yes               No          No          No   \n",
      "4             No           No               No          No          No   \n",
      "5             No           No              Yes          No         Yes   \n",
      "6             No          Yes               No          No         Yes   \n",
      "\n",
      "  StreamingMovies        Contract PaperlessBilling            PaymentMethod  \\\n",
      "1              No        One year               No             Mailed check   \n",
      "2              No  Month-to-month              Yes             Mailed check   \n",
      "4              No  Month-to-month              Yes         Electronic check   \n",
      "5             Yes  Month-to-month              Yes         Electronic check   \n",
      "6              No  Month-to-month              Yes  Credit card (automatic)   \n",
      "\n",
      "   MonthlyCharges TotalCharges Churn  \n",
      "1           56.95       1889.5    No  \n",
      "2           53.85       108.15   Yes  \n",
      "4           70.70       151.65   Yes  \n",
      "5           99.65        820.5   Yes  \n",
      "6           89.10       1949.4    No  \n",
      "   SeniorCitizen  tenure  PhoneService  MultipleLines  InternetService  \\\n",
      "1              0      34             0              0                0   \n",
      "2              0       2             0              0                0   \n",
      "4              0       2             0              0                1   \n",
      "5              0       8             0              1                1   \n",
      "6              0      22             0              1                1   \n",
      "\n",
      "   OnlineSecurity  OnlineBackup  DeviceProtection  TechSupport  StreamingTV  \\\n",
      "1               1             0                 1            0            0   \n",
      "2               1             1                 0            0            0   \n",
      "4               0             0                 0            0            0   \n",
      "5               0             0                 1            0            1   \n",
      "6               0             1                 0            0            1   \n",
      "\n",
      "   StreamingMovies  Contract  PaperlessBilling  PaymentMethod  MonthlyCharges  \\\n",
      "1                0         1                 0              3             200   \n",
      "2                0         0                 1              3             140   \n",
      "4                0         0                 1              2             422   \n",
      "5                1         0                 1              2             967   \n",
      "6                0         0                 1              1             768   \n",
      "\n",
      "   TotalCharges  Churn  \n",
      "1           777      0  \n",
      "2            72      1  \n",
      "4           464      1  \n",
      "5          4363      1  \n",
      "6           824      0  \n"
     ]
    }
   ],
   "source": [
    "def remove_indices(col):\n",
    "    return dt[dt[col]==\"No phone service\"].index\n",
    "def remove_indices_another(col):\n",
    "    return dt[dt[col]==\"No internet service\"].index\n",
    "\n",
    "#dropping unncessary columns\n",
    "print(dt.shape)\n",
    "re_cols = [\"customerID\",\"gender\",\"Partner\",\"Dependents\"]\n",
    "for i in re_cols:\n",
    "    dt = dt.drop(i,axis=1)\n",
    "print(dt.shape)\n",
    "\n",
    "\n",
    "print(dt.shape)\n",
    "column_name = [\"SeniorCitizen\",\"tenure\",\"PhoneService\",\"MultipleLines\",\"InternetService\",\"OnlineSecurity\",\"OnlineBackup\",\"DeviceProtection\",\"TechSupport\",\"StreamingTV\",\"StreamingMovies\",\"Contract\",\"PaperlessBilling\",\"PaymentMethod\",\"MonthlyCharges\",\"TotalCharges\",\"Churn\"]\n",
    "for i in column_name:\n",
    "    re_in = remove_indices(i)\n",
    "    re_in_an = remove_indices_another(i)\n",
    "    dt.drop(re_in, inplace=True)\n",
    "    dt.drop(re_in_an, inplace=True)\n",
    "print(dt.shape)\n",
    "print(dt)\n",
    "\n",
    "#encoding categorical data into numerical data\n",
    "print(dt.head())\n",
    "encoder = LabelEncoder()\n",
    "for i in column_name:\n",
    "    dt[i] = encoder.fit_transform(dt[i])\n",
    "print(dt.head())"
   ]
  },
  {
   "cell_type": "markdown",
   "id": "deccf86c",
   "metadata": {},
   "source": [
    "# SPLITTING INTO DEPENDENT AND INDEPENDENT ATTRIBUTES"
   ]
  },
  {
   "cell_type": "code",
   "execution_count": 104,
   "id": "88df42ed",
   "metadata": {},
   "outputs": [],
   "source": [
    "x = dt.drop(\"Churn\",axis=1)\n",
    "y = dt[\"Churn\"]"
   ]
  },
  {
   "cell_type": "markdown",
   "id": "eab272a4",
   "metadata": {},
   "source": [
    "# DEFINING TRAINING AND TESTING DATA"
   ]
  },
  {
   "cell_type": "code",
   "execution_count": 105,
   "id": "0878295d",
   "metadata": {},
   "outputs": [],
   "source": [
    "x_train, x_test, y_train, y_test = train_test_split(x,y,test_size=0.4,random_state=42)"
   ]
  },
  {
   "cell_type": "markdown",
   "id": "810ad53b",
   "metadata": {},
   "source": [
    "# CREATING OBJECT FOR LOGISTIC REGRESSION"
   ]
  },
  {
   "cell_type": "code",
   "execution_count": 106,
   "id": "a75d2483",
   "metadata": {},
   "outputs": [
    {
     "data": {
      "text/html": [
       "<style>#sk-container-id-7 {color: black;}#sk-container-id-7 pre{padding: 0;}#sk-container-id-7 div.sk-toggleable {background-color: white;}#sk-container-id-7 label.sk-toggleable__label {cursor: pointer;display: block;width: 100%;margin-bottom: 0;padding: 0.3em;box-sizing: border-box;text-align: center;}#sk-container-id-7 label.sk-toggleable__label-arrow:before {content: \"▸\";float: left;margin-right: 0.25em;color: #696969;}#sk-container-id-7 label.sk-toggleable__label-arrow:hover:before {color: black;}#sk-container-id-7 div.sk-estimator:hover label.sk-toggleable__label-arrow:before {color: black;}#sk-container-id-7 div.sk-toggleable__content {max-height: 0;max-width: 0;overflow: hidden;text-align: left;background-color: #f0f8ff;}#sk-container-id-7 div.sk-toggleable__content pre {margin: 0.2em;color: black;border-radius: 0.25em;background-color: #f0f8ff;}#sk-container-id-7 input.sk-toggleable__control:checked~div.sk-toggleable__content {max-height: 200px;max-width: 100%;overflow: auto;}#sk-container-id-7 input.sk-toggleable__control:checked~label.sk-toggleable__label-arrow:before {content: \"▾\";}#sk-container-id-7 div.sk-estimator input.sk-toggleable__control:checked~label.sk-toggleable__label {background-color: #d4ebff;}#sk-container-id-7 div.sk-label input.sk-toggleable__control:checked~label.sk-toggleable__label {background-color: #d4ebff;}#sk-container-id-7 input.sk-hidden--visually {border: 0;clip: rect(1px 1px 1px 1px);clip: rect(1px, 1px, 1px, 1px);height: 1px;margin: -1px;overflow: hidden;padding: 0;position: absolute;width: 1px;}#sk-container-id-7 div.sk-estimator {font-family: monospace;background-color: #f0f8ff;border: 1px dotted black;border-radius: 0.25em;box-sizing: border-box;margin-bottom: 0.5em;}#sk-container-id-7 div.sk-estimator:hover {background-color: #d4ebff;}#sk-container-id-7 div.sk-parallel-item::after {content: \"\";width: 100%;border-bottom: 1px solid gray;flex-grow: 1;}#sk-container-id-7 div.sk-label:hover label.sk-toggleable__label {background-color: #d4ebff;}#sk-container-id-7 div.sk-serial::before {content: \"\";position: absolute;border-left: 1px solid gray;box-sizing: border-box;top: 0;bottom: 0;left: 50%;z-index: 0;}#sk-container-id-7 div.sk-serial {display: flex;flex-direction: column;align-items: center;background-color: white;padding-right: 0.2em;padding-left: 0.2em;position: relative;}#sk-container-id-7 div.sk-item {position: relative;z-index: 1;}#sk-container-id-7 div.sk-parallel {display: flex;align-items: stretch;justify-content: center;background-color: white;position: relative;}#sk-container-id-7 div.sk-item::before, #sk-container-id-7 div.sk-parallel-item::before {content: \"\";position: absolute;border-left: 1px solid gray;box-sizing: border-box;top: 0;bottom: 0;left: 50%;z-index: -1;}#sk-container-id-7 div.sk-parallel-item {display: flex;flex-direction: column;z-index: 1;position: relative;background-color: white;}#sk-container-id-7 div.sk-parallel-item:first-child::after {align-self: flex-end;width: 50%;}#sk-container-id-7 div.sk-parallel-item:last-child::after {align-self: flex-start;width: 50%;}#sk-container-id-7 div.sk-parallel-item:only-child::after {width: 0;}#sk-container-id-7 div.sk-dashed-wrapped {border: 1px dashed gray;margin: 0 0.4em 0.5em 0.4em;box-sizing: border-box;padding-bottom: 0.4em;background-color: white;}#sk-container-id-7 div.sk-label label {font-family: monospace;font-weight: bold;display: inline-block;line-height: 1.2em;}#sk-container-id-7 div.sk-label-container {text-align: center;}#sk-container-id-7 div.sk-container {/* jupyter's `normalize.less` sets `[hidden] { display: none; }` but bootstrap.min.css set `[hidden] { display: none !important; }` so we also need the `!important` here to be able to override the default hidden behavior on the sphinx rendered scikit-learn.org. See: https://github.com/scikit-learn/scikit-learn/issues/21755 */display: inline-block !important;position: relative;}#sk-container-id-7 div.sk-text-repr-fallback {display: none;}</style><div id=\"sk-container-id-7\" class=\"sk-top-container\"><div class=\"sk-text-repr-fallback\"><pre>LogisticRegression()</pre><b>In a Jupyter environment, please rerun this cell to show the HTML representation or trust the notebook. <br />On GitHub, the HTML representation is unable to render, please try loading this page with nbviewer.org.</b></div><div class=\"sk-container\" hidden><div class=\"sk-item\"><div class=\"sk-estimator sk-toggleable\"><input class=\"sk-toggleable__control sk-hidden--visually\" id=\"sk-estimator-id-7\" type=\"checkbox\" checked><label for=\"sk-estimator-id-7\" class=\"sk-toggleable__label sk-toggleable__label-arrow\">LogisticRegression</label><div class=\"sk-toggleable__content\"><pre>LogisticRegression()</pre></div></div></div></div></div>"
      ],
      "text/plain": [
       "LogisticRegression()"
      ]
     },
     "execution_count": 106,
     "metadata": {},
     "output_type": "execute_result"
    }
   ],
   "source": [
    "lo_rg = LogisticRegression()\n",
    "lo_rg.fit(x_train, y_train)"
   ]
  },
  {
   "cell_type": "markdown",
   "id": "c5d1444d",
   "metadata": {},
   "source": [
    "# TEST DATA PREDICTION"
   ]
  },
  {
   "cell_type": "code",
   "execution_count": 107,
   "id": "c086d483",
   "metadata": {},
   "outputs": [
    {
     "name": "stdout",
     "output_type": "stream",
     "text": [
      "      SeniorCitizen  tenure  PhoneService  MultipleLines  InternetService  \\\n",
      "4813              0      46             0              0                1   \n",
      "3665              0      71             0              1                1   \n",
      "1475              1      69             0              1                1   \n",
      "4800              1       1             0              1                1   \n",
      "6411              1       2             0              0                1   \n",
      "...             ...     ...           ...            ...              ...   \n",
      "4929              1      63             0              0                0   \n",
      "1346              0      14             0              1                1   \n",
      "2343              0       3             0              0                0   \n",
      "6506              0      13             0              1                1   \n",
      "2902              1       6             0              0                1   \n",
      "\n",
      "      OnlineSecurity  OnlineBackup  DeviceProtection  TechSupport  \\\n",
      "4813               0             1                 1            0   \n",
      "3665               1             1                 1            0   \n",
      "1475               0             1                 0            1   \n",
      "4800               0             0                 0            0   \n",
      "6411               0             0                 0            0   \n",
      "...              ...           ...               ...          ...   \n",
      "4929               1             1                 1            1   \n",
      "1346               0             0                 1            0   \n",
      "2343               0             0                 0            0   \n",
      "6506               0             0                 0            0   \n",
      "2902               1             0                 0            0   \n",
      "\n",
      "      StreamingTV  StreamingMovies  Contract  PaperlessBilling  PaymentMethod  \\\n",
      "4813            1                1         0                 1              2   \n",
      "3665            1                0         2                 1              2   \n",
      "1475            1                1         2                 0              1   \n",
      "4800            1                1         0                 1              2   \n",
      "6411            0                0         0                 0              2   \n",
      "...           ...              ...       ...               ...            ...   \n",
      "4929            1                1         1                 1              0   \n",
      "1346            0                1         0                 1              2   \n",
      "2343            0                0         0                 1              3   \n",
      "6506            0                1         0                 1              2   \n",
      "2902            0                0         0                 1              2   \n",
      "\n",
      "      MonthlyCharges  TotalCharges  \n",
      "4813             970          2395  \n",
      "3665             954          3873  \n",
      "1475            1076          3876  \n",
      "4800             861          4571  \n",
      "6411             410           370  \n",
      "...              ...           ...  \n",
      "4929             668          2997  \n",
      "1346             733           232  \n",
      "2343              51           271  \n",
      "6506             680           102  \n",
      "2902             482          2482  \n",
      "\n",
      "[1934 rows x 16 columns]\n",
      "[0 0 0 ... 0 1 1]\n"
     ]
    }
   ],
   "source": [
    "y_pred = lo_rg.predict(x_test)\n",
    "print(x_test)\n",
    "print(y_pred)"
   ]
  },
  {
   "cell_type": "markdown",
   "id": "01f1dea2",
   "metadata": {},
   "source": [
    "# ACCURACY SCORE"
   ]
  },
  {
   "cell_type": "code",
   "execution_count": 108,
   "id": "83e8e855",
   "metadata": {},
   "outputs": [
    {
     "name": "stdout",
     "output_type": "stream",
     "text": [
      "Accuracy Score:  0.7538779731127198\n"
     ]
    }
   ],
   "source": [
    "accr = accuracy_score(y_test,y_pred)\n",
    "print(\"Accuracy Score: \", accr)"
   ]
  },
  {
   "cell_type": "code",
   "execution_count": 109,
   "id": "6afebee9",
   "metadata": {
    "scrolled": true
   },
   "outputs": [
    {
     "name": "stdout",
     "output_type": "stream",
     "text": [
      "              precision    recall  f1-score   support\n",
      "\n",
      "           0       0.80      0.84      0.82      1281\n",
      "           1       0.65      0.58      0.61       653\n",
      "\n",
      "    accuracy                           0.75      1934\n",
      "   macro avg       0.73      0.71      0.72      1934\n",
      "weighted avg       0.75      0.75      0.75      1934\n",
      "\n"
     ]
    }
   ],
   "source": [
    "cr = classification_report(y_test,y_pred)\n",
    "print(cr)"
   ]
  },
  {
   "cell_type": "markdown",
   "id": "0a46d7bf",
   "metadata": {},
   "source": [
    "# COLLECTING USER DATA FOR PREDICTION"
   ]
  },
  {
   "cell_type": "code",
   "execution_count": 112,
   "id": "875340dd",
   "metadata": {},
   "outputs": [
    {
     "name": "stdin",
     "output_type": "stream",
     "text": [
      "Is the customer a Senior Citizen? (0 for No, 1 for Yes):  0\n",
      "Enter tenure (in months):  2\n",
      "Does the customer have Phone Service? (0 for No, 1 for Yes):  1\n",
      "Does the customer have Multiple Lines? (0 for No, 1 for Yes):  1\n",
      "Enter Internet Service ( 0 for DSL or 1 for Fiber optic):  1\n",
      "Does the customer have Online Security? (0 for No, 1 for Yes):  1\n",
      "Does the customer have Online Backup? (0 for No, 1 for Yes):  0\n",
      "Does the customer have Device Protection? (0 for No, 1 for Yes):  1\n",
      "Does the customer have Tech Support? (0 for No, 1 for Yes):  1\n",
      "Does the customer have Streaming TV? (0 for No, 1 for Yes):  0\n",
      "Does the customer have Streaming Movies? (0 for No, 1 for Yes):  1\n",
      "Enter Contract Type (0 for Month-to-month, 1 for One year, 2 for Two years):  0\n",
      "Is Paperless Billing enabled? (0 for No, 1 for Yes):  1\n",
      "Enter Payment Method (0 for Electronic Check, 1 for Mailed Check, 2 for Bank Transfer, 3 for Credit Card):  2\n",
      "Enter Monthly Charges:  58\n",
      "Enter Total Charges:  240\n"
     ]
    },
    {
     "name": "stdout",
     "output_type": "stream",
     "text": [
      "User data collected successfully: [0, 2, 1, 1, 1, 1, 0, 1, 1, 0, 1, 0, 1, 2, 58.0, 240.0]\n"
     ]
    }
   ],
   "source": [
    "# Initialize an empty list to store user input\n",
    "user_data = []\n",
    "\n",
    "# Ask user for input\n",
    "senior_citizen = int(input(\"Is the customer a Senior Citizen? (0 for No, 1 for Yes): \"))\n",
    "user_data.append(senior_citizen)\n",
    "\n",
    "tenure = int(input(\"Enter tenure (in months): \"))\n",
    "user_data.append(tenure)\n",
    "\n",
    "phone_service = int(input(\"Does the customer have Phone Service? (0 for No, 1 for Yes): \"))\n",
    "user_data.append(phone_service)\n",
    "\n",
    "multiple_lines = int(input(\"Does the customer have Multiple Lines? (0 for No, 1 for Yes): \"))\n",
    "user_data.append(multiple_lines)\n",
    "\n",
    "internet_service = int(input(\"Enter Internet Service ( 0 for DSL or 1 for Fiber optic): \"))\n",
    "user_data.append(internet_service)\n",
    "\n",
    "online_security = int(input(\"Does the customer have Online Security? (0 for No, 1 for Yes): \"))\n",
    "user_data.append(online_security)\n",
    "\n",
    "online_backup = int(input(\"Does the customer have Online Backup? (0 for No, 1 for Yes): \"))\n",
    "user_data.append(online_backup)\n",
    "\n",
    "device_protection = int(input(\"Does the customer have Device Protection? (0 for No, 1 for Yes): \"))\n",
    "user_data.append(device_protection)\n",
    "\n",
    "tech_support = int(input(\"Does the customer have Tech Support? (0 for No, 1 for Yes): \"))\n",
    "user_data.append(tech_support)\n",
    "\n",
    "streaming_tv = int(input(\"Does the customer have Streaming TV? (0 for No, 1 for Yes): \"))\n",
    "user_data.append(streaming_tv)\n",
    "\n",
    "streaming_movies = int(input(\"Does the customer have Streaming Movies? (0 for No, 1 for Yes): \"))\n",
    "user_data.append(streaming_movies)\n",
    "\n",
    "contract = int(input(\"Enter Contract Type (0 for Month-to-month, 1 for One year, 2 for Two years): \"))\n",
    "user_data.append(contract)\n",
    "\n",
    "paperless_billing = int(input(\"Is Paperless Billing enabled? (0 for No, 1 for Yes): \"))\n",
    "user_data.append(paperless_billing)\n",
    "\n",
    "payment_method = int(input(\"Enter Payment Method (0 for Electronic Check, 1 for Mailed Check, 2 for Bank Transfer, 3 for Credit Card): \"))\n",
    "user_data.append(payment_method)\n",
    "\n",
    "monthly_charges = float(input(\"Enter Monthly Charges: \"))\n",
    "user_data.append(monthly_charges)\n",
    "\n",
    "total_charges = float(input(\"Enter Total Charges: \"))\n",
    "user_data.append(total_charges)\n",
    "\n",
    "print(\"User data collected successfully:\", user_data)\n"
   ]
  },
  {
   "cell_type": "markdown",
   "id": "03764fee",
   "metadata": {},
   "source": [
    "# Predicting with the Collected data"
   ]
  },
  {
   "cell_type": "code",
   "execution_count": 113,
   "id": "b3c619f7",
   "metadata": {},
   "outputs": [
    {
     "name": "stdout",
     "output_type": "stream",
     "text": [
      "Probability of NO (class 0): 0.7712553689161483\n",
      "Probability of YES (class 1): 0.22874463108385165\n",
      "Churn Prediction result is: NO\n"
     ]
    }
   ],
   "source": [
    "input_array = np.array(user_data).reshape(1, -1)\n",
    "\n",
    "# Get probability estimates for each class\n",
    "probabilities = lo_rg.predict_proba(input_array)\n",
    "\n",
    "# Print the probability values\n",
    "print(\"Probability of NO (class 0):\", probabilities[0, 0])\n",
    "print(\"Probability of YES (class 1):\", probabilities[0, 1])\n",
    "\n",
    "y_pred = lo_rg.predict(input_array)\n",
    "if y_pred==0:\n",
    "    print(\"Churn Prediction result is: NO\")\n",
    "elif y_pred==1:\n",
    "    print(\"Churn Prediction result is: YES\")"
   ]
  },
  {
   "cell_type": "code",
   "execution_count": null,
   "id": "583ce5c9-91ed-4ac3-bcad-7e684de6f5f1",
   "metadata": {},
   "outputs": [],
   "source": []
  }
 ],
 "metadata": {
  "kernelspec": {
   "display_name": "Python 3 (ipykernel)",
   "language": "python",
   "name": "python3"
  },
  "language_info": {
   "codemirror_mode": {
    "name": "ipython",
    "version": 3
   },
   "file_extension": ".py",
   "mimetype": "text/x-python",
   "name": "python",
   "nbconvert_exporter": "python",
   "pygments_lexer": "ipython3",
   "version": "3.9.18"
  }
 },
 "nbformat": 4,
 "nbformat_minor": 5
}
